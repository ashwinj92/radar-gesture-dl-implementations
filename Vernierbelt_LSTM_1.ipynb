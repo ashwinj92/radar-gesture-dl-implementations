{
  "nbformat": 4,
  "nbformat_minor": 0,
  "metadata": {
    "colab": {
      "name": "Vernierbelt_LSTM_1.ipynb",
      "provenance": [],
      "collapsed_sections": []
    },
    "kernelspec": {
      "name": "python3",
      "display_name": "Python 3"
    }
  },
  "cells": [
    {
      "cell_type": "code",
      "metadata": {
        "id": "Lwa6pq7_GK7L",
        "colab": {
          "base_uri": "https://localhost:8080/",
          "height": 54
        },
        "outputId": "04683a2d-c1ff-4dcf-fcbd-77a3a391943b"
      },
      "source": [
        "from google.colab import drive\n",
        "drive.mount('/content/drive')"
      ],
      "execution_count": null,
      "outputs": [
        {
          "output_type": "stream",
          "text": [
            "Drive already mounted at /content/drive; to attempt to forcibly remount, call drive.mount(\"/content/drive\", force_remount=True).\n"
          ],
          "name": "stdout"
        }
      ]
    },
    {
      "cell_type": "code",
      "metadata": {
        "id": "Suk68B5IFWFt"
      },
      "source": [
        "# -*- coding: utf-8 -*-\n",
        "import numpy as np\n",
        "from keras.models import Sequential\n",
        "from keras.layers import Dense, LSTM, Softmax, Dropout\n",
        "from keras.callbacks import EarlyStopping\n",
        "from keras.optimizers import Adam\n",
        "from keras.utils import to_categorical\n",
        "# from keras.layers import LSTM\n",
        "from sklearn.preprocessing import MinMaxScaler, StandardScaler\n",
        "from sklearn.metrics import mean_squared_error\n",
        "from sklearn.model_selection import train_test_split\n",
        "from keras.models import model_from_json\n",
        "import matplotlib.pyplot as plt\n",
        "import pandas as pd\n",
        "#from data_pp_mmwave import *\n",
        "import os\n",
        "\n",
        "data_dir = \"/content/drive/My Drive/mmWaveData/\"\n",
        "\n",
        "step = 12\n",
        "data  = read_from_pickle(data_dir+'data_sitting.pkl', step)\n",
        "label = np.zeros(data.shape[0])\n",
        "\n",
        "data_standing = read_from_pickle(data_dir+'data_standing.pkl', step)\n",
        "data = np.vstack((data, data_standing))\n",
        "label = np.append(label,np.ones(data_standing.shape[0]))\n",
        "\n",
        "data_walking = read_from_pickle(data_dir+'data_walking.pkl', step)\n",
        "data = np.vstack((data, data_walking))\n",
        "label = np.append(label, 2 * np.ones(data_walking.shape[0]))\n",
        "label = to_categorical(label)\n",
        "\n",
        "data_final =  df.append({'A': i}, ignore_index=True)\n",
        "\n",
        "X_train, X_test, y_train, y_test = train_test_split(data,label, test_size=0.2)\n",
        "\n",
        "scalers = {}\n",
        "for i in range(X_train.shape[2]):\n",
        "    scalers[i] = StandardScaler()\n",
        "    X_train[:, :, i] = scalers[i].fit_transform(X_train[:, :, i]) \n",
        "\n",
        "for i in range(X_test.shape[2]):\n",
        "    X_test[:, :, i] = scalers[i].transform(X_test[:, :, i]) \n",
        "\n",
        "opt  = Adam(lr=0.0001)\n",
        "call_back = EarlyStopping(patience=2)\n",
        "input_shape = X_train.shape[1:3]\n",
        "model = Sequential()\n",
        "model.add(LSTM(20, input_shape=input_shape, return_sequences=False))\n",
        "model.add(Dense(10, activation = 'relu'))\n",
        "model.add(Dropout(0.5))\n",
        "model.add(Dense(3, activation='softmax'))\n",
        "\n",
        "model.compile(loss='categorical_crossentropy', optimizer=opt, metrics=['accuracy'])\n",
        "model.summary()\n",
        "hist = model.fit(X_train, y_train, epochs=2000,\n",
        "                validation_split=0.15,\n",
        "                callbacks= [call_back],\n",
        "                batch_size=32, verbose=2)\n",
        "\n",
        "y_pred = model.predict(X_test)\n",
        "results = model.evaluate(X_test,y_test,batch_size = 32)\n",
        "print('test loss, test accuracy:',results)\n"
      ],
      "execution_count": null,
      "outputs": []
    },
    {
      "cell_type": "code",
      "metadata": {
        "id": "BzuoTuAUKESK"
      },
      "source": [
        "plt.figure(figsize=(10,8))\n",
        "plt.plot(hist.history['loss'], label = 'Training Loss')\n",
        "plt.plot(hist.history['val_loss'], label = 'Validation Loss')\n",
        "plt.legend(loc = 'best')"
      ],
      "execution_count": null,
      "outputs": []
    }
  ]
}