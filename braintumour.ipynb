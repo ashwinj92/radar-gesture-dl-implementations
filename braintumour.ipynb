{
  "nbformat": 4,
  "nbformat_minor": 0,
  "metadata": {
    "kernelspec": {
      "display_name": "Python 3",
      "language": "python",
      "name": "python3"
    },
    "language_info": {
      "codemirror_mode": {
        "name": "ipython",
        "version": 3
      },
      "file_extension": ".py",
      "mimetype": "text/x-python",
      "name": "python",
      "nbconvert_exporter": "python",
      "pygments_lexer": "ipython3",
      "version": "3.8.5"
    },
    "colab": {
      "name": "braintumour.ipynb",
      "provenance": [],
      "collapsed_sections": []
    }
  },
  "cells": [
    {
      "cell_type": "code",
      "metadata": {
        "id": "AE4cyNb19clY"
      },
      "source": [
        "import numpy as np\n",
        "import pandas as pd\n",
        "import os\n",
        "import matplotlib.pyplot as plt\n",
        "import tensorflow as tf\n",
        "from tensorflow import keras\n",
        "from keras.models import Sequential\n",
        "from keras.layers import Dense, Dropout, Activation, Flatten\n",
        "from keras.layers import Conv2D, MaxPooling2D\n",
        "import cv2 \n",
        "from sklearn.model_selection import train_test_split\n",
        "from sklearn.metrics import classification_report, confusion_matrix\n",
        "from keras.wrappers.scikit_learn import KerasClassifier\n",
        "\n",
        "import pathlib\n",
        "\n",
        "##############################\n",
        "uniq_labels=['yes','no']"
      ],
      "execution_count": null,
      "outputs": []
    },
    {
      "cell_type": "code",
      "metadata": {
        "id": "921XDVd4ligT",
        "colab": {
          "base_uri": "https://localhost:8080/",
          "height": 34
        },
        "outputId": "cfa599b9-58ad-4960-a0d2-de561f2e28b0"
      },
      "source": [
        "from google.colab import drive\n",
        "drive.mount('/content/drive')"
      ],
      "execution_count": null,
      "outputs": [
        {
          "output_type": "stream",
          "text": [
            "Mounted at /content/drive\n"
          ],
          "name": "stdout"
        }
      ]
    },
    {
      "cell_type": "markdown",
      "metadata": {
        "id": "KlDZvr4MeoZV"
      },
      "source": [
        "# New Section"
      ]
    },
    {
      "cell_type": "code",
      "metadata": {
        "id": "95uImUqDfaKR"
      },
      "source": [
        "#!unzip -uq \"/content/archive (3).zip\" -d \"/content/drive/My Drive/archive\"\n",
        "directory = \"/content/drive/My Drive/archive\""
      ],
      "execution_count": null,
      "outputs": []
    },
    {
      "cell_type": "code",
      "metadata": {
        "id": "DBlC8im40kAR"
      },
      "source": [
        "num_classes = len(classes_names_list)\n",
        "print(num_classes)"
      ],
      "execution_count": null,
      "outputs": []
    },
    {
      "cell_type": "code",
      "metadata": {
        "id": "GnWESruAyQ5y",
        "colab": {
          "base_uri": "https://localhost:8080/",
          "height": 85
        },
        "outputId": "f3eb65e6-414c-4844-cc1e-0cfd8c443e69"
      },
      "source": [
        "DATA_PATH = os.path.join(directory, \"brain_tumor_dataset\")\n",
        "data_dir_list = os.listdir(DATA_PATH)\n",
        "\n",
        "import cv2\n",
        "\n",
        "classes_names_list=[]\n",
        "img_data_list=[]\n",
        "\n",
        "for dataset in data_dir_list:\n",
        "    classes_names_list.append(dataset) \n",
        "    print ('Loading images from {} folder\\n'.format(dataset)) \n",
        "    img_list=os.listdir(DATA_PATH+'/'+ dataset)\n",
        "    for img in img_list:\n",
        "        input_img=cv2.imread(DATA_PATH + '/'+ dataset + '/'+ img )\n",
        "        input_img_resize=cv2.resize(input_img,(240, 240))\n",
        "        (b, g, r)=cv2.split(input_img_resize) \n",
        "        img=cv2.merge([r,g,b])\n",
        "        img_data_list.append(img)"
      ],
      "execution_count": null,
      "outputs": [
        {
          "output_type": "stream",
          "text": [
            "Loading images from no folder\n",
            "\n",
            "Loading images from yes folder\n",
            "\n"
          ],
          "name": "stdout"
        }
      ]
    },
    {
      "cell_type": "code",
      "metadata": {
        "id": "BcBWM2LW1K-S"
      },
      "source": [
        "import numpy as np\n",
        "\n",
        "img_data = np.array(img_data_list)\n",
        "img_data = img_data.astype('float32')\n",
        "img_data /= 255\n",
        "\n",
        "print (img_data.shape)\n",
        "num_of_samples = img_data.shape[0]\n",
        "input_shape = img_data[0].shape\n",
        "\n",
        "classes = np.ones((num_of_samples,), dtype='int64')\n",
        "\n",
        "classes[0:98]=0\n",
        "classes[98:]=1\n",
        "\n",
        "from keras.utils import to_categorical\n",
        "\n",
        "classes = to_categorical(classes, 2)\n",
        "\n",
        "from sklearn.utils import shuffle\n",
        "\n",
        "X, Y = shuffle(img_data, classes, random_state=456)\n",
        "\n",
        "\n",
        "X_train, X_test, y_train, y_test = train_test_split(X, Y, test_size=0.2, random_state=456)"
      ],
      "execution_count": null,
      "outputs": []
    },
    {
      "cell_type": "code",
      "metadata": {
        "id": "Yrj-3G-UNy_1"
      },
      "source": [
        "def create_model():\n",
        "    model = Sequential()\n",
        "\n",
        "####### Model\n",
        "    model.add(Conv2D(64, (7, 7), strides = (1,1) , padding=\"same\", activation ='relu', input_shape=X_train.shape[1:]))\n",
        "    model.add(MaxPooling2D(pool_size=(4, 4)))\n",
        "\n",
        "    model.add(Conv2D(32, (7, 7), strides = (1,1),padding=\"same\", activation='relu'))\n",
        "    model.add(MaxPooling2D(pool_size=(2, 2)))\n",
        "\n",
        "    model.add(Flatten())\n",
        "    model.add(Dense(512))\n",
        "    model.add(Dense(2))\n",
        "    model.add(Activation('softmax'))\n",
        "    print(model.summary())     \n",
        "    \n",
        "    #initialize the training data augmentation object\n",
        "    trainAug = keras.preprocessing.image.ImageDataGenerator(rotation_range=15, fill_mode=\"nearest\")\n",
        "\n",
        "    # Compiling the model\n",
        "    opt = keras.optimizers.Adam(lr=0.001, beta_1=0.9, beta_2=0.999)\n",
        "    model.compile(loss=\"categorical_crossentropy\", optimizer= opt, metrics=[\"accuracy\"])#categorical_crossentropy,binary_crossentropy\n",
        "    # Training and evaluating the model\n",
        "    #validation_acc = np.amax(history['val_acc']) \n",
        "    #print('Best validation acc of epoch:', validation_acc)\n",
        "    return model"
      ],
      "execution_count": null,
      "outputs": []
    },
    {
      "cell_type": "code",
      "metadata": {
        "id": "4Z4zSyUHYcII"
      },
      "source": [
        "model = create_model()\n",
        "\n",
        "stop_early = keras.callbacks.EarlyStopping(monitor='val_accuracy', patience=20, verbose=1 )    \n",
        "history = model.fit(X_train, y_train, epochs=10, batch_size=32, validation_split=0.2 , callbacks = stop_early)\n"
      ],
      "execution_count": null,
      "outputs": []
    },
    {
      "cell_type": "code",
      "metadata": {
        "id": "DrJ0HUuE8wgT"
      },
      "source": [
        "import numpy as np\n",
        "\n",
        "img_data = np.array(img_data_list)\n",
        "img_data = img_data.astype('float32')\n",
        "img_data /= 255\n",
        "\n",
        "print (img_data.shape)\n",
        "num_of_samples = img_data.shape[0]\n",
        "input_shape = img_data[0].shape\n",
        "\n",
        "classes = np.ones((num_of_samples,), dtype='int64')\n",
        "\n",
        "from keras.utils import to_categorical\n",
        "\n",
        "#classes = to_categorical(classes, 2)\n",
        "\n",
        "from sklearn.utils import shuffle\n",
        "\n",
        "#X_s, Y_s = shuffle(img_data, classes, random_state=456)\n",
        "\n",
        "\n",
        "X_trainS, X_testS, y_trainS, y_testS = train_test_split(img_data,classes, test_size=0.2, random_state=456)\n",
        "\n"
      ],
      "execution_count": null,
      "outputs": []
    },
    {
      "cell_type": "code",
      "metadata": {
        "id": "1HlTIjmTO464"
      },
      "source": [
        "def create_model_GS():\n",
        "    model = Sequential()\n",
        "\n",
        "####### Model\n",
        "    model.add(Conv2D(64, (7, 7), strides = (1,1) , padding=\"same\", activation ='relu', input_shape=X_trainS.shape[1:]))\n",
        "    model.add(MaxPooling2D(pool_size=(4, 4)))\n",
        "\n",
        "    model.add(Conv2D(32, (7, 7), strides = (1,1),padding=\"same\", activation='relu'))\n",
        "    model.add(MaxPooling2D(pool_size=(2, 2)))\n",
        "\n",
        "    model.add(Flatten())\n",
        "    model.add(Dense(512))\n",
        "    model.add(Dense(2))\n",
        "    model.add(Activation('softmax'))\n",
        "    print(model.summary())     \n",
        "    \n",
        "    #initialize the training data augmentation object\n",
        "    trainAug = keras.preprocessing.image.ImageDataGenerator(rotation_range=15, fill_mode=\"nearest\")\n",
        "\n",
        "    # Compiling the model\n",
        "    opt = keras.optimizers.Adam(lr=0.001, beta_1=0.9, beta_2=0.999)\n",
        "    model.compile(loss=\"categorical_crossentropy\", optimizer= opt, metrics=[\"accuracy\"])#categorical_crossentropy,binary_crossentropy\n",
        "    # Training and evaluating the model\n",
        "    #validation_acc = np.amax(history['val_acc']) \n",
        "    #print('Best validation acc of epoch:', validation_acc)\n",
        "    return model"
      ],
      "execution_count": null,
      "outputs": []
    },
    {
      "cell_type": "code",
      "metadata": {
        "id": "Y-KCMHopn7rv"
      },
      "source": [
        "from sklearn.model_selection import GridSearchCV\n",
        "from keras.layers import Dropout\n",
        "from sklearn.model_selection import KFold\n",
        "KFold\n",
        "\n",
        "KC = KerasClassifier(build_fn = create_model_GS,verbose = 0,batch_size = 40,epochs = 10)\n",
        "\n",
        "parameters = {'batch_size' : [25,32],\n",
        "          'epochs' : [5,10]}\n",
        "grid_search = GridSearchCV(estimator=KC , \n",
        "param_grid=parameters,scoring='accuracy',cv=10)\n",
        "\n",
        "\n",
        "grid_search.fit(X_trainS,y_trainS)\n",
        "# Summarize the results\n",
        "\n",
        "print('Best : {}, using {}'.format(grid_result.best_score_,grid_result.best_params_))\n",
        "means = grid_result.cv_results_['mean_test_score']\n",
        "stds = grid_result.cv_results_['std_test_score']\n",
        "params = grid_result.cv_results_['params']\n",
        "for mean, stdev, param in zip(means, stds, params):\n",
        "    print('{},{} with: {}'.format(mean, stdev, param))\n"
      ],
      "execution_count": null,
      "outputs": []
    },
    {
      "cell_type": "code",
      "metadata": {
        "id": "uD2awVssz43U"
      },
      "source": [
        "model.compile(loss=\"categorical_crossentropy\", optimizer= opt, metrics=[\"accuracy\"])#categorical_crossentropy,binary_crossentropy\n",
        "# Training and evaluating the model\n",
        "history = model.fit(X_train, y_train, epochs=10, batch_size=32, validation_split=0.2 , callbacks = stop_early)"
      ],
      "execution_count": null,
      "outputs": []
    },
    {
      "cell_type": "code",
      "metadata": {
        "id": "06yL_OGalaPF"
      },
      "source": [
        "def plot_random_examples():\n",
        "\n",
        "  plt.figure( dpi=256)\n",
        "  predicted_classes = model.predict_classes(X_test)\n",
        "\n",
        "  for i in range(10):\n",
        "    plt.subplot(5,5,i+1)\n",
        "    fig=plt.imshow(X_test[i,:,:,:])\n",
        "    plt.axis('off')\n",
        "    plt.title(\"Predicted - {}\".format(uniq_labels[predicted_classes[i]]),fontsize=3)\n",
        "    plt.tight_layout()\n",
        "    \n",
        "plot_random_examples()"
      ],
      "execution_count": null,
      "outputs": []
    },
    {
      "cell_type": "code",
      "metadata": {
        "id": "9j_Kp52W9cls"
      },
      "source": [
        "pd.DataFrame(history.history).plot(figsize=(12, 8))\n",
        "plt.grid(True)\n",
        "plt.gca().set_ylim(0, 1) # set the vertical range to [0-1]\n",
        "plt.show()"
      ],
      "execution_count": null,
      "outputs": []
    },
    {
      "cell_type": "code",
      "metadata": {
        "id": "KhMObCe89clu"
      },
      "source": [
        "model_evaluate = model.evaluate(X_test, y_test)\n",
        "print(\"Loss     : \",model_evaluate[0])\n",
        "print(\"accuracy : \",model_evaluate[1])"
      ],
      "execution_count": null,
      "outputs": []
    },
    {
      "cell_type": "code",
      "metadata": {
        "id": "zLSTcUBY9cl2"
      },
      "source": [
        "y_pred = model.predict_classes(X_test)\n",
        "#real values for test images\n",
        "y_test_=np.argmax(y_test, axis=1)\n"
      ],
      "execution_count": null,
      "outputs": []
    },
    {
      "cell_type": "code",
      "metadata": {
        "id": "c1WjNnS79cl7"
      },
      "source": [
        "print(\"Classification report : \\n\",classification_report(y_test_, y_pred))"
      ],
      "execution_count": null,
      "outputs": []
    },
    {
      "cell_type": "code",
      "metadata": {
        "id": "16s-eJRn9cl-"
      },
      "source": [
        "cm = confusion_matrix(y_test_, y_pred)\n",
        "cm"
      ],
      "execution_count": null,
      "outputs": []
    },
    {
      "cell_type": "code",
      "metadata": {
        "id": "Bar9rOB59cmC"
      },
      "source": [
        "def draw_confusion_matrix(true,preds):\n",
        "    # Compute confusion matrix\n",
        "    conf_matx = confusion_matrix(true, preds)\n",
        "    print(\"Confusion matrix : \\n\")\n",
        "    sns.heatmap(conf_matx, annot=True,annot_kws={\"size\": 12},fmt='g', cbar=False, cmap=\"viridis\")\n",
        "    plt.show()\n",
        "    return conf_matx\n",
        "con_mat = draw_confusion_matrix(y_test_, y_pred)"
      ],
      "execution_count": null,
      "outputs": []
    },
    {
      "cell_type": "code",
      "metadata": {
        "id": "_Qqm8x46N74t"
      },
      "source": [
        "model = Sequential()\n",
        "\n",
        "model.add(Conv2D(64, (4, 2), padding='same', strides = (1,1), activation='relu', input_shape=X_train.shape[1:]))\n",
        "model.add(MaxPooling2D(pool_size=(2, 2)))\n",
        "model.add(Dropout(0.5))\n",
        "model.add(Conv2D(32, (2, 2), padding='same', strides = (1,1), activation='relu'))\n",
        "model.add(Dropout(0.25))\n",
        "\n",
        "model.add(Conv2D(64, (4, 2), padding='same',strides = (1,1), activation='relu', input_shape=X_train.shape[1:]))\n",
        "model.add(MaxPooling2D(pool_size=(2, 2)))\n",
        "model.add(Dropout(0.5))\n",
        "model.add(Conv2D(32, (2, 2), padding='same', strides = (1,1), activation='relu'))\n",
        "model.add(Dropout(0.25))\n",
        "\n",
        "model.add(Conv2D(64, (4, 2), padding='same', strides = (1,1), activation='relu', input_shape=X_train.shape[1:]))\n",
        "model.add(MaxPooling2D(pool_size=(2, 2)))\n",
        "model.add(Dropout(0.5))\n",
        "model.add(Conv2D(32, (2, 2), padding='same',strides = (1,1), activation='relu'))\n",
        "model.add(Dropout(0.25))\n",
        "\n",
        "model.add(Conv2D(64, (4, 2), padding='same',strides = (1,1), activation='relu', input_shape=X_train.shape[1:]))\n",
        "model.add(MaxPooling2D(pool_size=(2, 2)))\n",
        "model.add(Dropout(0.5))\n",
        "model.add(Conv2D(32, (2, 2), padding='same',strides = (1,1), activation='relu'))\n",
        "model.add(Dropout(0.25))\n",
        "\n",
        "model.add(Flatten())\n",
        "model.add(Dense(512))\n",
        "model.add(Dense(2))\n",
        "model.add(Activation('softmax'))\n",
        "print(model.summary())"
      ],
      "execution_count": null,
      "outputs": []
    },
    {
      "cell_type": "code",
      "metadata": {
        "id": "e7VsYjjmCEX7"
      },
      "source": [
        "opt = keras.optimizers.Adam(lr=0.00001, beta_1=0.8, beta_2=0.9)\n",
        "\n",
        "model.compile(loss='categorical_crossentropy',\n",
        "              optimizer=opt,\n",
        "              metrics=['accuracy'])\n",
        "\n",
        "stop_early = keras.callbacks.EarlyStopping(monitor='val_acc', patience=4, verbose=1 )\n",
        "\n",
        "history=model.fit(X_train, y_train,\n",
        "          batch_size=32,\n",
        "          epochs=10,\n",
        "          validation_split=0.15,\n",
        "          callbacks=[stop_early],\n",
        "          shuffle=True) "
      ],
      "execution_count": null,
      "outputs": []
    },
    {
      "cell_type": "code",
      "metadata": {
        "id": "drsenqd5N_DZ"
      },
      "source": [
        "def plot_random_examples():\n",
        "\n",
        "  plt.figure( dpi=256)\n",
        "  predicted_classes = model.predict_classes(X_test)\n",
        "\n",
        "  for i in range(10):\n",
        "    plt.subplot(5,5,i+1)\n",
        "    fig=plt.imshow(X_test[i,:,:,:])\n",
        "    plt.axis('off')\n",
        "    plt.title(\"Predicted - {}\".format(uniq_labels[predicted_classes[i]]),fontsize=3)\n",
        "    plt.tight_layout()\n",
        "    \n",
        "plot_random_examples()"
      ],
      "execution_count": null,
      "outputs": []
    },
    {
      "cell_type": "code",
      "metadata": {
        "id": "XmzXRwkFOEGT"
      },
      "source": [
        "pd.DataFrame(history.history).plot(figsize=(12, 8))\n",
        "plt.grid(True)\n",
        "plt.gca().set_ylim(0, 1) # set the vertical range to [0-1]\n",
        "plt.show()"
      ],
      "execution_count": null,
      "outputs": []
    },
    {
      "cell_type": "code",
      "metadata": {
        "id": "2jqEhSRkOIsh"
      },
      "source": [
        "y_pred = model.predict_classes(X_test)\n",
        "#real values for test images\n",
        "y_test_=np.argmax(y_test, axis=1)"
      ],
      "execution_count": null,
      "outputs": []
    }
  ]
}